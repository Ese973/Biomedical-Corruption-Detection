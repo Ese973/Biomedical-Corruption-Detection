{
 "cells": [
  {
   "cell_type": "code",
   "execution_count": 1,
   "id": "1b896627",
   "metadata": {},
   "outputs": [],
   "source": [
    "# Libraries\n",
    "import os\n",
    "import pandas as pd"
   ]
  },
  {
   "cell_type": "code",
   "execution_count": 2,
   "id": "0449a35f",
   "metadata": {},
   "outputs": [],
   "source": [
    "# Assign data directory and image directory\n",
    "csv_dir = \"../data/raw/Data_Entry_2017.csv\"\n",
    "img_dir = \"../data/raw/images/\""
   ]
  },
  {
   "cell_type": "code",
   "execution_count": 3,
   "id": "4f1dedde",
   "metadata": {},
   "outputs": [],
   "source": [
    "# Create function for usable subset of images\n",
    "def create_usable_subset(df, img_dir, target_size=1000):\n",
    "    \"\"\"Create a subset of images from downloaded dataset\"\"\"\n",
    "\n",
    "    available_images = []\n",
    "\n",
    "    for image, row in df.iterrows():\n",
    "        img_path = os.path.join(img_dir, row[\"Image Index\"])\n",
    "        if os.path.exists(img_path):\n",
    "            available_images.append(image)\n",
    "\n",
    "        # Stop if we have enough images\n",
    "        if len(available_images) > target_size:\n",
    "            print(f\"Reached target of {target_size} images, stopping search.\")\n",
    "            break\n",
    "\n",
    "    print(f\"Total available images found: {len(available_images)}\")\n",
    "\n",
    "    if available_images:\n",
    "        # Create subset dataframe\n",
    "        df_subset = df.loc[available_images].copy()\n",
    "\n",
    "        # Prioritize normal/clean images for corruption\n",
    "        if \"Finding Labels\" in df_subset.columns:\n",
    "            normal_images = df_subset[df_subset[\"Finding Labels\"] == \"No Finding\"]\n",
    "            other_images = df_subset[df_subset[\"Finding Labels\"] != \"No Finding\"]\n",
    "\n",
    "            print(f\"Normal images (No Finding): {len(normal_images)}\")\n",
    "            print(f\"Other findings: {len(other_images)}\")\n",
    "\n",
    "            # Use mostly normal images, some with findings for variety\n",
    "            if len(normal_images) >= 800:\n",
    "                final_subset = pd.concat(\n",
    "                    [\n",
    "                        normal_images.head(800),  # 800 normal images\n",
    "                        other_images.head(200),  # 200 with findings\n",
    "                    ]\n",
    "                )\n",
    "            else:\n",
    "                final_subset = df_subset.head(1000)\n",
    "        else:\n",
    "            final_subset = df_subset.head(1000)\n",
    "\n",
    "        # Save the usable subset\n",
    "        os.makedirs(\"../data/processed\", exist_ok=True)\n",
    "        final_subset.to_csv(\"../data/processed/usable_subset.csv\", index=False)\n",
    "\n",
    "        print(f\"Created usable subset: {len(final_subset)} images\")\n",
    "        print(\"Saved to: ../data/processed/usable_subset.csv\")\n",
    "\n",
    "        # Show distribution\n",
    "        if \"Finding Labels\" in final_subset.columns:\n",
    "            print(\"\\nFinal subset distribution:\")\n",
    "            print(final_subset[\"Finding Labels\"].value_counts().head(10))\n",
    "\n",
    "        return final_subset\n",
    "\n",
    "    return None"
   ]
  },
  {
   "cell_type": "code",
   "execution_count": 4,
   "id": "cc43dc19",
   "metadata": {},
   "outputs": [
    {
     "name": "stdout",
     "output_type": "stream",
     "text": [
      "Loading CSV...\n",
      "Total records: 112120\n",
      "\n",
      "Creating usable subset...\n",
      "Reached target of 1000 images, stopping search.\n",
      "Total available images found: 1001\n",
      "Normal images (No Finding): 426\n",
      "Other findings: 575\n",
      "Created usable subset: 1000 images\n",
      "Saved to: ../data/processed/usable_subset.csv\n",
      "\n",
      "Final subset distribution:\n",
      "Finding Labels\n",
      "No Finding               425\n",
      "Infiltration              79\n",
      "Effusion                  72\n",
      "Atelectasis               40\n",
      "Cardiomegaly              31\n",
      "Pneumothorax              19\n",
      "Nodule                    19\n",
      "Effusion|Infiltration     16\n",
      "Emphysema                 15\n",
      "Fibrosis                  15\n",
      "Name: count, dtype: int64\n"
     ]
    }
   ],
   "source": [
    "if __name__ == \"__main__\":\n",
    "    print(\"Loading CSV...\")\n",
    "    df = pd.read_csv(csv_dir)\n",
    "    print(f\"Total records: {len(df)}\")\n",
    "    \n",
    "    print(\"\\nCreating usable subset...\")\n",
    "    df_subset = create_usable_subset(df, img_dir, target_size=1000)"
   ]
  }
 ],
 "metadata": {
  "kernelspec": {
   "display_name": "medical_ai",
   "language": "python",
   "name": "python3"
  },
  "language_info": {
   "codemirror_mode": {
    "name": "ipython",
    "version": 3
   },
   "file_extension": ".py",
   "mimetype": "text/x-python",
   "name": "python",
   "nbconvert_exporter": "python",
   "pygments_lexer": "ipython3",
   "version": "3.13.7"
  }
 },
 "nbformat": 4,
 "nbformat_minor": 5
}
